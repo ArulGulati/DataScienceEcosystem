{
 "cells": [
  {
   "cell_type": "markdown",
   "id": "dde58eea",
   "metadata": {},
   "source": [
    "# Data Science Tools and Ecosystem"
   ]
  },
  {
   "cell_type": "markdown",
   "id": "6f1c2b96",
   "metadata": {},
   "source": [
    "## In this notebook, Data Science Tools and Ecosystem are summarized."
   ]
  },
  {
   "cell_type": "markdown",
   "id": "3368e848",
   "metadata": {},
   "source": [
    "**Objectives**\n",
    "- List the popular languages used by Data Scientists\n",
    "- Some of the commonly used libraries by Data Scientists\n",
    "- Examples of evaluating arithmetic expressions in Python"
   ]
  },
  {
   "cell_type": "markdown",
   "id": "526ceddf",
   "metadata": {},
   "source": [
    "Some of the popular languages that Data Scientists use are:\n",
    "1. Python\n",
    "2. SQL\n",
    "3. R\n",
    "4. Java"
   ]
  },
  {
   "cell_type": "markdown",
   "id": "23b0a942",
   "metadata": {},
   "source": [
    "Some of the commonly used libraries used by Data Scientists include\n",
    "1. Pandas \n",
    "2. NumPy\n",
    "3. TensorFlow\n",
    "4. Matplotlib\n",
    "5. PyTorch\n",
    "6. SciKit-learn"
   ]
  },
  {
   "cell_type": "markdown",
   "id": "c55424c3",
   "metadata": {},
   "source": [
    "| Data Science Tools |\n",
    "| --- |\n",
    "| RStudio |\n",
    "| Jupyter Notebook |\n",
    "| VS Code |"
   ]
  },
  {
   "cell_type": "markdown",
   "id": "eda3246a",
   "metadata": {},
   "source": [
    "### Below are a few examples of evaluating arithmetic expressions in Python\n",
    "`print(2+3)`\n",
    "`print(10/2)`\n",
    "`print(12*4)`"
   ]
  },
  {
   "cell_type": "code",
   "execution_count": 4,
   "id": "9f16f63e",
   "metadata": {},
   "outputs": [
    {
     "name": "stdout",
     "output_type": "stream",
     "text": [
      "17\n"
     ]
    }
   ],
   "source": [
    "# This a simple arithmetic expression to mutiply then add integers\n",
    "print ( (3*4) + 5 )"
   ]
  },
  {
   "cell_type": "code",
   "execution_count": 5,
   "id": "0918e878",
   "metadata": {},
   "outputs": [
    {
     "name": "stdout",
     "output_type": "stream",
     "text": [
      "3.3333333333333335\n"
     ]
    }
   ],
   "source": [
    "# This will convert 200 minutes to hours by diving by 60\n",
    "minutes = 200 \n",
    "hours = minutes / 60 \n",
    "print(hours)"
   ]
  },
  {
   "cell_type": "markdown",
   "id": "32410f69",
   "metadata": {},
   "source": [
    "## Author\n",
    "Arul Gulati"
   ]
  }
 ],
 "metadata": {
  "kernelspec": {
   "display_name": "Python 3 (ipykernel)",
   "language": "python",
   "name": "python3"
  },
  "language_info": {
   "codemirror_mode": {
    "name": "ipython",
    "version": 3
   },
   "file_extension": ".py",
   "mimetype": "text/x-python",
   "name": "python",
   "nbconvert_exporter": "python",
   "pygments_lexer": "ipython3",
   "version": "3.10.9"
  }
 },
 "nbformat": 4,
 "nbformat_minor": 5
}
